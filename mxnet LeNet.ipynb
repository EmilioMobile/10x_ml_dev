{
  "nbformat": 4,
  "nbformat_minor": 0,
  "metadata": {
    "colab": {
      "name": "MXNET LeNet.ipynb",
      "version": "0.3.2",
      "provenance": [],
      "include_colab_link": true
    },
    "kernelspec": {
      "name": "python3",
      "display_name": "Python 3"
    }
  },
  "cells": [
    {
      "cell_type": "markdown",
      "metadata": {
        "id": "view-in-github",
        "colab_type": "text"
      },
      "source": [
        "<a href=\"https://colab.research.google.com/github/EmilioMobile/Machine-Learning-10x_ml_dev/blob/master/mxnet%20LeNet.ipynb\" target=\"_parent\"><img src=\"https://colab.research.google.com/assets/colab-badge.svg\" alt=\"Open In Colab\"/></a>"
      ]
    },
    {
      "metadata": {
        "id": "1FkoamGpA9pp",
        "colab_type": "code",
        "colab": {
          "base_uri": "https://localhost:8080/",
          "height": 2758
        },
        "outputId": "df0194fc-cb85-453f-fc29-360c2b961d77"
      },
      "cell_type": "code",
      "source": [
        "#!pip install numpy -U\n",
        "#!pip install pillow -U\n",
        "!pip install mxnet\n",
        "!pip install gluon\n",
        "!pip install gluonbook"
      ],
      "execution_count": 45,
      "outputs": [
        {
          "output_type": "stream",
          "text": [
            "Requirement already satisfied: mxnet in /usr/local/lib/python3.6/dist-packages (1.4.0)\n",
            "Requirement already satisfied: requests>=2.20.0 in /usr/local/lib/python3.6/dist-packages (from mxnet) (2.21.0)\n",
            "Requirement already satisfied: numpy<1.15.0,>=1.8.2 in /usr/local/lib/python3.6/dist-packages (from mxnet) (1.14.6)\n",
            "Requirement already satisfied: graphviz<0.9.0,>=0.8.1 in /usr/local/lib/python3.6/dist-packages (from mxnet) (0.8.4)\n",
            "Requirement already satisfied: certifi>=2017.4.17 in /usr/local/lib/python3.6/dist-packages (from requests>=2.20.0->mxnet) (2018.11.29)\n",
            "Requirement already satisfied: urllib3<1.25,>=1.21.1 in /usr/local/lib/python3.6/dist-packages (from requests>=2.20.0->mxnet) (1.22)\n",
            "Requirement already satisfied: idna<2.9,>=2.5 in /usr/local/lib/python3.6/dist-packages (from requests>=2.20.0->mxnet) (2.6)\n",
            "Requirement already satisfied: chardet<3.1.0,>=3.0.2 in /usr/local/lib/python3.6/dist-packages (from requests>=2.20.0->mxnet) (3.0.4)\n",
            "Requirement already satisfied: gluon in /usr/local/lib/python3.6/dist-packages (1.1.0)\n",
            "Requirement already satisfied: oslo.utils>=3.18.0 in /usr/local/lib/python3.6/dist-packages (from gluon) (3.40.2)\n",
            "Requirement already satisfied: oslo.middleware>=3.0.0 in /usr/local/lib/python3.6/dist-packages (from gluon) (3.37.0)\n",
            "Requirement already satisfied: WSME>=0.8 in /usr/local/lib/python3.6/dist-packages (from gluon) (0.9.3)\n",
            "Requirement already satisfied: click>=6.6 in /usr/local/lib/python3.6/dist-packages (from gluon) (7.0)\n",
            "Requirement already satisfied: SQLAlchemy<1.1.0,>=1.0.10 in /usr/local/lib/python3.6/dist-packages (from gluon) (1.0.19)\n",
            "Requirement already satisfied: keystonemiddleware>=4.12.0 in /usr/local/lib/python3.6/dist-packages (from gluon) (5.3.0)\n",
            "Requirement already satisfied: oslo.versionedobjects>=1.17.0 in /usr/local/lib/python3.6/dist-packages (from gluon) (1.35.0)\n",
            "Requirement already satisfied: PyYAML>=3.1.0 in /usr/local/lib/python3.6/dist-packages (from gluon) (3.13)\n",
            "Requirement already satisfied: oslo.policy>=1.17.0 in /usr/local/lib/python3.6/dist-packages (from gluon) (2.1.0)\n",
            "Requirement already satisfied: pecan!=1.0.2,!=1.0.3,!=1.0.4,!=1.2,>=1.0.0 in /usr/local/lib/python3.6/dist-packages (from gluon) (1.3.2)\n",
            "Requirement already satisfied: requests!=2.12.2,>=2.10.0 in /usr/local/lib/python3.6/dist-packages (from gluon) (2.21.0)\n",
            "Requirement already satisfied: python-etcd>=0.4.3 in /usr/local/lib/python3.6/dist-packages (from gluon) (0.4.5)\n",
            "Requirement already satisfied: oslo.log>=3.11.0 in /usr/local/lib/python3.6/dist-packages (from gluon) (3.42.3)\n",
            "Requirement already satisfied: oslo.i18n>=2.1.0 in /usr/local/lib/python3.6/dist-packages (from gluon) (3.23.0)\n",
            "Requirement already satisfied: keystoneauth1>=2.18.0 in /usr/local/lib/python3.6/dist-packages (from gluon) (3.11.2)\n",
            "Requirement already satisfied: oslo.config!=3.18.0,>=3.14.0 in /usr/local/lib/python3.6/dist-packages (from gluon) (6.8.0)\n",
            "Requirement already satisfied: pbr>=1.8 in /usr/local/lib/python3.6/dist-packages (from gluon) (5.1.2)\n",
            "Requirement already satisfied: oslo.db>=4.15.0 in /usr/local/lib/python3.6/dist-packages (from gluon) (4.44.0)\n",
            "Requirement already satisfied: pytz>=2013.6 in /usr/local/lib/python3.6/dist-packages (from gluon) (2018.9)\n",
            "Requirement already satisfied: six>=1.9.0 in /usr/local/lib/python3.6/dist-packages (from gluon) (1.11.0)\n",
            "Requirement already satisfied: Babel!=2.3.0,!=2.3.1,!=2.3.2,!=2.3.3,>=1.3 in /usr/local/lib/python3.6/dist-packages (from gluon) (2.6.0)\n",
            "Requirement already satisfied: rfc3986>=0.3.1 in /usr/local/lib/python3.6/dist-packages (from gluon) (1.2.0)\n",
            "Requirement already satisfied: netifaces>=0.10.4 in /usr/local/lib/python3.6/dist-packages (from oslo.utils>=3.18.0->gluon) (0.10.9)\n",
            "Requirement already satisfied: debtcollector>=1.2.0 in /usr/local/lib/python3.6/dist-packages (from oslo.utils>=3.18.0->gluon) (1.20.0)\n",
            "Requirement already satisfied: iso8601>=0.1.11 in /usr/local/lib/python3.6/dist-packages (from oslo.utils>=3.18.0->gluon) (0.1.12)\n",
            "Requirement already satisfied: netaddr>=0.7.18 in /usr/local/lib/python3.6/dist-packages (from oslo.utils>=3.18.0->gluon) (0.7.19)\n",
            "Requirement already satisfied: pyparsing>=2.1.0 in /usr/local/lib/python3.6/dist-packages (from oslo.utils>=3.18.0->gluon) (2.3.1)\n",
            "Requirement already satisfied: WebOb>=1.7.1 in /usr/local/lib/python3.6/dist-packages (from oslo.middleware>=3.0.0->gluon) (1.8.5)\n",
            "Requirement already satisfied: Jinja2>=2.10 in /usr/local/lib/python3.6/dist-packages (from oslo.middleware>=3.0.0->gluon) (2.10)\n",
            "Requirement already satisfied: stevedore>=1.20.0 in /usr/local/lib/python3.6/dist-packages (from oslo.middleware>=3.0.0->gluon) (1.30.0)\n",
            "Requirement already satisfied: oslo.context>=2.19.2 in /usr/local/lib/python3.6/dist-packages (from oslo.middleware>=3.0.0->gluon) (2.22.0)\n",
            "Requirement already satisfied: statsd>=3.2.1 in /usr/local/lib/python3.6/dist-packages (from oslo.middleware>=3.0.0->gluon) (3.3.0)\n",
            "Requirement already satisfied: simplegeneric in /usr/local/lib/python3.6/dist-packages (from WSME>=0.8->gluon) (0.8.1)\n",
            "Requirement already satisfied: pycadf!=2.0.0,>=1.1.0 in /usr/local/lib/python3.6/dist-packages (from keystonemiddleware>=4.12.0->gluon) (2.9.0)\n",
            "Requirement already satisfied: oslo.cache>=1.26.0 in /usr/local/lib/python3.6/dist-packages (from keystonemiddleware>=4.12.0->gluon) (1.33.0)\n",
            "Requirement already satisfied: python-keystoneclient>=3.8.0 in /usr/local/lib/python3.6/dist-packages (from keystonemiddleware>=4.12.0->gluon) (3.18.0)\n",
            "Requirement already satisfied: oslo.serialization!=2.19.1,>=2.18.0 in /usr/local/lib/python3.6/dist-packages (from keystonemiddleware>=4.12.0->gluon) (2.28.1)\n",
            "Requirement already satisfied: oslo.concurrency>=3.26.0 in /usr/local/lib/python3.6/dist-packages (from oslo.versionedobjects>=1.17.0->gluon) (3.29.0)\n",
            "Requirement already satisfied: oslo.messaging>=5.29.0 in /usr/local/lib/python3.6/dist-packages (from oslo.versionedobjects>=1.17.0->gluon) (9.5.0)\n",
            "Requirement already satisfied: Mako>=0.4.0 in /usr/local/lib/python3.6/dist-packages (from pecan!=1.0.2,!=1.0.3,!=1.0.4,!=1.2,>=1.0.0->gluon) (1.0.7)\n",
            "Requirement already satisfied: WebTest>=1.3.1 in /usr/local/lib/python3.6/dist-packages (from pecan!=1.0.2,!=1.0.3,!=1.0.4,!=1.2,>=1.0.0->gluon) (2.0.33)\n",
            "Requirement already satisfied: logutils>=0.3 in /usr/local/lib/python3.6/dist-packages (from pecan!=1.0.2,!=1.0.3,!=1.0.4,!=1.2,>=1.0.0->gluon) (0.3.5)\n",
            "Requirement already satisfied: urllib3<1.25,>=1.21.1 in /usr/local/lib/python3.6/dist-packages (from requests!=2.12.2,>=2.10.0->gluon) (1.22)\n",
            "Requirement already satisfied: idna<2.9,>=2.5 in /usr/local/lib/python3.6/dist-packages (from requests!=2.12.2,>=2.10.0->gluon) (2.6)\n",
            "Requirement already satisfied: chardet<3.1.0,>=3.0.2 in /usr/local/lib/python3.6/dist-packages (from requests!=2.12.2,>=2.10.0->gluon) (3.0.4)\n",
            "Requirement already satisfied: certifi>=2017.4.17 in /usr/local/lib/python3.6/dist-packages (from requests!=2.12.2,>=2.10.0->gluon) (2018.11.29)\n",
            "Requirement already satisfied: dnspython>=1.13.0 in /usr/local/lib/python3.6/dist-packages (from python-etcd>=0.4.3->gluon) (1.16.0)\n",
            "Requirement already satisfied: pyinotify>=0.9.6; sys_platform != \"win32\" and sys_platform != \"darwin\" and sys_platform != \"sunos5\" in /usr/local/lib/python3.6/dist-packages (from oslo.log>=3.11.0->gluon) (0.9.6)\n",
            "Requirement already satisfied: python-dateutil>=2.7.0 in /usr/local/lib/python3.6/dist-packages (from oslo.log>=3.11.0->gluon) (2.8.0)\n",
            "Requirement already satisfied: monotonic>=1.4 in /usr/local/lib/python3.6/dist-packages (from oslo.log>=3.11.0->gluon) (1.5)\n",
            "Requirement already satisfied: os-service-types>=1.2.0 in /usr/local/lib/python3.6/dist-packages (from keystoneauth1>=2.18.0->gluon) (1.5.0)\n",
            "Requirement already satisfied: testscenarios>=0.4 in /usr/local/lib/python3.6/dist-packages (from oslo.db>=4.15.0->gluon) (0.5.0)\n",
            "Requirement already satisfied: testresources>=2.0.0 in /usr/local/lib/python3.6/dist-packages (from oslo.db>=4.15.0->gluon) (2.0.1)\n",
            "Requirement already satisfied: sqlalchemy-migrate>=0.11.0 in /usr/local/lib/python3.6/dist-packages (from oslo.db>=4.15.0->gluon) (0.12.0)\n",
            "Requirement already satisfied: alembic>=0.9.6 in /usr/local/lib/python3.6/dist-packages (from oslo.db>=4.15.0->gluon) (1.0.7)\n",
            "Requirement already satisfied: wrapt>=1.7.0 in /usr/local/lib/python3.6/dist-packages (from debtcollector>=1.2.0->oslo.utils>=3.18.0->gluon) (1.11.1)\n",
            "Requirement already satisfied: MarkupSafe>=0.23 in /usr/local/lib/python3.6/dist-packages (from Jinja2>=2.10->oslo.middleware>=3.0.0->gluon) (1.1.1)\n",
            "Requirement already satisfied: dogpile.cache>=0.6.2 in /usr/local/lib/python3.6/dist-packages (from oslo.cache>=1.26.0->keystonemiddleware>=4.12.0->gluon) (0.7.1)\n",
            "Requirement already satisfied: msgpack>=0.5.2 in /usr/local/lib/python3.6/dist-packages (from oslo.serialization!=2.19.1,>=2.18.0->keystonemiddleware>=4.12.0->gluon) (0.5.6)\n",
            "Requirement already satisfied: fasteners>=0.7.0 in /usr/local/lib/python3.6/dist-packages (from oslo.concurrency>=3.26.0->oslo.versionedobjects>=1.17.0->gluon) (0.14.1)\n",
            "Requirement already satisfied: oslo.service!=1.28.1,>=1.24.0 in /usr/local/lib/python3.6/dist-packages (from oslo.messaging>=5.29.0->oslo.versionedobjects>=1.17.0->gluon) (1.38.0)\n",
            "Requirement already satisfied: futurist>=1.2.0 in /usr/local/lib/python3.6/dist-packages (from oslo.messaging>=5.29.0->oslo.versionedobjects>=1.17.0->gluon) (1.8.0)\n",
            "Requirement already satisfied: kombu!=4.0.2,>=4.0.0 in /usr/local/lib/python3.6/dist-packages (from oslo.messaging>=5.29.0->oslo.versionedobjects>=1.17.0->gluon) (4.3.0)\n",
            "Requirement already satisfied: cachetools>=2.0.0 in /usr/local/lib/python3.6/dist-packages (from oslo.messaging>=5.29.0->oslo.versionedobjects>=1.17.0->gluon) (3.1.0)\n",
            "Requirement already satisfied: amqp>=2.4.1 in /usr/local/lib/python3.6/dist-packages (from oslo.messaging>=5.29.0->oslo.versionedobjects>=1.17.0->gluon) (2.4.1)\n",
            "Requirement already satisfied: beautifulsoup4 in /usr/local/lib/python3.6/dist-packages (from WebTest>=1.3.1->pecan!=1.0.2,!=1.0.3,!=1.0.4,!=1.2,>=1.0.0->gluon) (4.6.3)\n",
            "Requirement already satisfied: waitress>=0.8.5 in /usr/local/lib/python3.6/dist-packages (from WebTest>=1.3.1->pecan!=1.0.2,!=1.0.3,!=1.0.4,!=1.2,>=1.0.0->gluon) (1.2.1)\n",
            "Requirement already satisfied: testtools in /usr/local/lib/python3.6/dist-packages (from testscenarios>=0.4->oslo.db>=4.15.0->gluon) (2.3.0)\n",
            "Requirement already satisfied: Tempita>=0.4 in /usr/local/lib/python3.6/dist-packages (from sqlalchemy-migrate>=0.11.0->oslo.db>=4.15.0->gluon) (0.5.2)\n",
            "Requirement already satisfied: decorator in /usr/local/lib/python3.6/dist-packages (from sqlalchemy-migrate>=0.11.0->oslo.db>=4.15.0->gluon) (4.3.2)\n",
            "Requirement already satisfied: sqlparse in /usr/local/lib/python3.6/dist-packages (from sqlalchemy-migrate>=0.11.0->oslo.db>=4.15.0->gluon) (0.2.4)\n",
            "Requirement already satisfied: python-editor>=0.3 in /usr/local/lib/python3.6/dist-packages (from alembic>=0.9.6->oslo.db>=4.15.0->gluon) (1.0.4)\n",
            "Requirement already satisfied: fixtures>=3.0.0 in /usr/local/lib/python3.6/dist-packages (from oslo.service!=1.28.1,>=1.24.0->oslo.messaging>=5.29.0->oslo.versionedobjects>=1.17.0->gluon) (3.0.0)\n",
            "Requirement already satisfied: Routes>=2.3.1 in /usr/local/lib/python3.6/dist-packages (from oslo.service!=1.28.1,>=1.24.0->oslo.messaging>=5.29.0->oslo.versionedobjects>=1.17.0->gluon) (2.4.1)\n",
            "Requirement already satisfied: greenlet>=0.4.10 in /usr/local/lib/python3.6/dist-packages (from oslo.service!=1.28.1,>=1.24.0->oslo.messaging>=5.29.0->oslo.versionedobjects>=1.17.0->gluon) (0.4.15)\n",
            "Requirement already satisfied: eventlet!=0.18.3,!=0.20.1,>=0.18.2 in /usr/local/lib/python3.6/dist-packages (from oslo.service!=1.28.1,>=1.24.0->oslo.messaging>=5.29.0->oslo.versionedobjects>=1.17.0->gluon) (0.24.1)\n",
            "Requirement already satisfied: Yappi>=1.0 in /usr/local/lib/python3.6/dist-packages (from oslo.service!=1.28.1,>=1.24.0->oslo.messaging>=5.29.0->oslo.versionedobjects>=1.17.0->gluon) (1.0)\n",
            "Requirement already satisfied: PasteDeploy>=1.5.0 in /usr/local/lib/python3.6/dist-packages (from oslo.service!=1.28.1,>=1.24.0->oslo.messaging>=5.29.0->oslo.versionedobjects>=1.17.0->gluon) (2.0.1)\n",
            "Requirement already satisfied: Paste>=2.0.2 in /usr/local/lib/python3.6/dist-packages (from oslo.service!=1.28.1,>=1.24.0->oslo.messaging>=5.29.0->oslo.versionedobjects>=1.17.0->gluon) (3.0.6)\n",
            "Requirement already satisfied: PrettyTable<0.8,>=0.7.1 in /usr/local/lib/python3.6/dist-packages (from futurist>=1.2.0->oslo.messaging>=5.29.0->oslo.versionedobjects>=1.17.0->gluon) (0.7.2)\n",
            "Requirement already satisfied: vine>=1.1.3 in /usr/local/lib/python3.6/dist-packages (from amqp>=2.4.1->oslo.messaging>=5.29.0->oslo.versionedobjects>=1.17.0->gluon) (1.2.0)\n",
            "Requirement already satisfied: extras>=1.0.0 in /usr/local/lib/python3.6/dist-packages (from testtools->testscenarios>=0.4->oslo.db>=4.15.0->gluon) (1.0.0)\n",
            "Requirement already satisfied: python-mimeparse in /usr/local/lib/python3.6/dist-packages (from testtools->testscenarios>=0.4->oslo.db>=4.15.0->gluon) (1.6.0)\n",
            "Requirement already satisfied: unittest2>=1.0.0 in /usr/local/lib/python3.6/dist-packages (from testtools->testscenarios>=0.4->oslo.db>=4.15.0->gluon) (1.1.0)\n",
            "Requirement already satisfied: traceback2 in /usr/local/lib/python3.6/dist-packages (from testtools->testscenarios>=0.4->oslo.db>=4.15.0->gluon) (1.4.0)\n",
            "Requirement already satisfied: repoze.lru>=0.3 in /usr/local/lib/python3.6/dist-packages (from Routes>=2.3.1->oslo.service!=1.28.1,>=1.24.0->oslo.messaging>=5.29.0->oslo.versionedobjects>=1.17.0->gluon) (0.7)\n",
            "Requirement already satisfied: argparse in /usr/local/lib/python3.6/dist-packages (from unittest2>=1.0.0->testtools->testscenarios>=0.4->oslo.db>=4.15.0->gluon) (1.4.0)\n",
            "Requirement already satisfied: linecache2 in /usr/local/lib/python3.6/dist-packages (from traceback2->testtools->testscenarios>=0.4->oslo.db>=4.15.0->gluon) (1.0.0)\n",
            "Collecting gluonbook\n",
            "  Downloading https://files.pythonhosted.org/packages/78/04/cdf69a47a60a9af897d076c2cbc452719578368ffe6a2df490b758f805c4/gluonbook-0.8.10.tar.gz\n",
            "Requirement already satisfied: numpy in /usr/local/lib/python3.6/dist-packages (from gluonbook) (1.14.6)\n",
            "Requirement already satisfied: matplotlib in /usr/local/lib/python3.6/dist-packages (from gluonbook) (3.0.2)\n",
            "Requirement already satisfied: jupyter in /usr/local/lib/python3.6/dist-packages (from gluonbook) (1.0.0)\n",
            "Requirement already satisfied: cycler>=0.10 in /usr/local/lib/python3.6/dist-packages (from matplotlib->gluonbook) (0.10.0)\n",
            "Requirement already satisfied: kiwisolver>=1.0.1 in /usr/local/lib/python3.6/dist-packages (from matplotlib->gluonbook) (1.0.1)\n",
            "Requirement already satisfied: pyparsing!=2.0.4,!=2.1.2,!=2.1.6,>=2.0.1 in /usr/local/lib/python3.6/dist-packages (from matplotlib->gluonbook) (2.3.1)\n",
            "Requirement already satisfied: python-dateutil>=2.1 in /usr/local/lib/python3.6/dist-packages (from matplotlib->gluonbook) (2.8.0)\n",
            "Requirement already satisfied: jupyter-console in /usr/local/lib/python3.6/dist-packages (from jupyter->gluonbook) (6.0.0)\n",
            "Requirement already satisfied: nbconvert in /usr/local/lib/python3.6/dist-packages (from jupyter->gluonbook) (5.4.1)\n",
            "Requirement already satisfied: ipywidgets in /usr/local/lib/python3.6/dist-packages (from jupyter->gluonbook) (7.4.2)\n",
            "Requirement already satisfied: notebook in /usr/local/lib/python3.6/dist-packages (from jupyter->gluonbook) (5.2.2)\n",
            "Requirement already satisfied: qtconsole in /usr/local/lib/python3.6/dist-packages (from jupyter->gluonbook) (4.4.3)\n",
            "Requirement already satisfied: ipykernel in /usr/local/lib/python3.6/dist-packages (from jupyter->gluonbook) (4.6.1)\n",
            "Requirement already satisfied: six in /usr/local/lib/python3.6/dist-packages (from cycler>=0.10->matplotlib->gluonbook) (1.11.0)\n",
            "Requirement already satisfied: setuptools in /usr/local/lib/python3.6/dist-packages (from kiwisolver>=1.0.1->matplotlib->gluonbook) (40.8.0)\n",
            "Requirement already satisfied: pygments in /usr/local/lib/python3.6/dist-packages (from jupyter-console->jupyter->gluonbook) (2.1.3)\n",
            "Collecting prompt-toolkit<2.1.0,>=2.0.0 (from jupyter-console->jupyter->gluonbook)\n",
            "\u001b[?25l  Downloading https://files.pythonhosted.org/packages/f7/a7/9b1dd14ef45345f186ef69d175bdd2491c40ab1dfa4b2b3e4352df719ed7/prompt_toolkit-2.0.9-py3-none-any.whl (337kB)\n",
            "\u001b[K    100% |████████████████████████████████| 337kB 13.5MB/s \n",
            "\u001b[?25hRequirement already satisfied: ipython in /usr/local/lib/python3.6/dist-packages (from jupyter-console->jupyter->gluonbook) (5.5.0)\n",
            "Requirement already satisfied: jupyter-client in /usr/local/lib/python3.6/dist-packages (from jupyter-console->jupyter->gluonbook) (5.2.4)\n",
            "Requirement already satisfied: entrypoints>=0.2.2 in /usr/local/lib/python3.6/dist-packages (from nbconvert->jupyter->gluonbook) (0.3)\n",
            "Requirement already satisfied: jupyter-core in /usr/local/lib/python3.6/dist-packages (from nbconvert->jupyter->gluonbook) (4.4.0)\n",
            "Requirement already satisfied: nbformat>=4.4 in /usr/local/lib/python3.6/dist-packages (from nbconvert->jupyter->gluonbook) (4.4.0)\n",
            "Requirement already satisfied: pandocfilters>=1.4.1 in /usr/local/lib/python3.6/dist-packages (from nbconvert->jupyter->gluonbook) (1.4.2)\n",
            "Requirement already satisfied: bleach in /usr/local/lib/python3.6/dist-packages (from nbconvert->jupyter->gluonbook) (3.1.0)\n",
            "Requirement already satisfied: testpath in /usr/local/lib/python3.6/dist-packages (from nbconvert->jupyter->gluonbook) (0.4.2)\n",
            "Requirement already satisfied: defusedxml in /usr/local/lib/python3.6/dist-packages (from nbconvert->jupyter->gluonbook) (0.5.0)\n",
            "Requirement already satisfied: mistune>=0.8.1 in /usr/local/lib/python3.6/dist-packages (from nbconvert->jupyter->gluonbook) (0.8.4)\n",
            "Requirement already satisfied: jinja2 in /usr/local/lib/python3.6/dist-packages (from nbconvert->jupyter->gluonbook) (2.10)\n",
            "Requirement already satisfied: traitlets>=4.2 in /usr/local/lib/python3.6/dist-packages (from nbconvert->jupyter->gluonbook) (4.3.2)\n",
            "Requirement already satisfied: widgetsnbextension~=3.4.0 in /usr/local/lib/python3.6/dist-packages (from ipywidgets->jupyter->gluonbook) (3.4.2)\n",
            "Requirement already satisfied: terminado>=0.3.3; sys_platform != \"win32\" in /usr/local/lib/python3.6/dist-packages (from notebook->jupyter->gluonbook) (0.8.1)\n",
            "Requirement already satisfied: ipython-genutils in /usr/local/lib/python3.6/dist-packages (from notebook->jupyter->gluonbook) (0.2.0)\n",
            "Requirement already satisfied: tornado>=4 in /usr/local/lib/python3.6/dist-packages (from notebook->jupyter->gluonbook) (4.5.3)\n",
            "Requirement already satisfied: wcwidth in /usr/local/lib/python3.6/dist-packages (from prompt-toolkit<2.1.0,>=2.0.0->jupyter-console->jupyter->gluonbook) (0.1.7)\n",
            "Requirement already satisfied: decorator in /usr/local/lib/python3.6/dist-packages (from ipython->jupyter-console->jupyter->gluonbook) (4.3.2)\n",
            "Requirement already satisfied: pickleshare in /usr/local/lib/python3.6/dist-packages (from ipython->jupyter-console->jupyter->gluonbook) (0.7.5)\n",
            "Requirement already satisfied: pexpect; sys_platform != \"win32\" in /usr/local/lib/python3.6/dist-packages (from ipython->jupyter-console->jupyter->gluonbook) (4.6.0)\n",
            "Requirement already satisfied: simplegeneric>0.8 in /usr/local/lib/python3.6/dist-packages (from ipython->jupyter-console->jupyter->gluonbook) (0.8.1)\n",
            "Requirement already satisfied: pyzmq>=13 in /usr/local/lib/python3.6/dist-packages (from jupyter-client->jupyter-console->jupyter->gluonbook) (17.0.0)\n",
            "Requirement already satisfied: jsonschema!=2.5.0,>=2.4 in /usr/local/lib/python3.6/dist-packages (from nbformat>=4.4->nbconvert->jupyter->gluonbook) (2.6.0)\n",
            "Requirement already satisfied: webencodings in /usr/local/lib/python3.6/dist-packages (from bleach->nbconvert->jupyter->gluonbook) (0.5.1)\n",
            "Requirement already satisfied: MarkupSafe>=0.23 in /usr/local/lib/python3.6/dist-packages (from jinja2->nbconvert->jupyter->gluonbook) (1.1.1)\n",
            "Requirement already satisfied: ptyprocess; os_name != \"nt\" in /usr/local/lib/python3.6/dist-packages (from terminado>=0.3.3; sys_platform != \"win32\"->notebook->jupyter->gluonbook) (0.6.0)\n",
            "Building wheels for collected packages: gluonbook\n",
            "  Building wheel for gluonbook (setup.py) ... \u001b[?25ldone\n",
            "\u001b[?25h  Stored in directory: /root/.cache/pip/wheels/3f/f3/cd/e115ddd372a84c2356d47404155a5865925013a462853a1ed7\n",
            "Successfully built gluonbook\n",
            "\u001b[31mipython 5.5.0 has requirement prompt-toolkit<2.0.0,>=1.0.4, but you'll have prompt-toolkit 2.0.9 which is incompatible.\u001b[0m\n",
            "\u001b[31mgoogle-colab 0.0.1a1 has requirement requests~=2.18.0, but you'll have requests 2.21.0 which is incompatible.\u001b[0m\n",
            "Installing collected packages: gluonbook, prompt-toolkit\n",
            "  Found existing installation: prompt-toolkit 1.0.15\n",
            "    Uninstalling prompt-toolkit-1.0.15:\n",
            "      Successfully uninstalled prompt-toolkit-1.0.15\n",
            "Successfully installed gluonbook-0.8.10 prompt-toolkit-2.0.9\n"
          ],
          "name": "stdout"
        },
        {
          "output_type": "display_data",
          "data": {
            "application/vnd.colab-display-data+json": {
              "pip_warning": {
                "packages": [
                  "prompt_toolkit"
                ]
              }
            }
          },
          "metadata": {
            "tags": []
          }
        }
      ]
    },
    {
      "metadata": {
        "id": "zacUWN2OAh7o",
        "colab_type": "code",
        "colab": {}
      },
      "cell_type": "code",
      "source": [
        "import mxnet as mx\n",
        "#import gluon as gb\n",
        "import gluonbook as gb\n",
        "from mxnet import autograd, gluon, init, nd\n",
        "from mxnet.gluon import loss as gloss, nn\n",
        "import time"
      ],
      "execution_count": 0,
      "outputs": []
    },
    {
      "metadata": {
        "id": "dCQ7geJoC4B6",
        "colab_type": "text"
      },
      "cell_type": "markdown",
      "source": [
        "#### Model, LeNet"
      ]
    },
    {
      "metadata": {
        "id": "EeDoeqPdCttQ",
        "colab_type": "code",
        "colab": {}
      },
      "cell_type": "code",
      "source": [
        "net = nn.Sequential()\n",
        "net.add(nn.Conv2D(channels=6, kernel_size=5, padding=2, activation='sigmoid'),\n",
        "       nn.AvgPool2D(pool_size=2, strides=2), \n",
        "       nn.Conv2D(channels=16, kernel_size=5, activation='sigmoid'),\n",
        "       nn.AvgPool2D(pool_size=2, strides=2),\n",
        "       nn.Dense(120, activation='sigmoid'),\n",
        "       nn.Dense(84, activation='sigmoid'),\n",
        "       nn.Dense(10))"
      ],
      "execution_count": 0,
      "outputs": []
    },
    {
      "metadata": {
        "id": "s8ZeVzLSHKgz",
        "colab_type": "text"
      },
      "cell_type": "markdown",
      "source": [
        "#### Initialize"
      ]
    },
    {
      "metadata": {
        "id": "pvx7HWx0D4sn",
        "colab_type": "code",
        "colab": {
          "base_uri": "https://localhost:8080/",
          "height": 136
        },
        "outputId": "3dde55c3-72a2-4274-d3ee-2af3352dce31"
      },
      "cell_type": "code",
      "source": [
        "X = nd.random.uniform(1,1, shape=(1,1,28, 28))\n",
        "net.initialize(force_reinit=True)\n",
        "for layer in net:\n",
        "  X = layer(X)\n",
        "  print(layer.name, 'output shape:\\t', X.shape)"
      ],
      "execution_count": 49,
      "outputs": [
        {
          "output_type": "stream",
          "text": [
            "conv5 output shape:\t (1, 6, 28, 28)\n",
            "pool3 output shape:\t (1, 6, 14, 14)\n",
            "conv6 output shape:\t (1, 16, 10, 10)\n",
            "pool4 output shape:\t (1, 16, 5, 5)\n",
            "dense3 output shape:\t (1, 120)\n",
            "dense4 output shape:\t (1, 84)\n",
            "dense5 output shape:\t (1, 10)\n"
          ],
          "name": "stdout"
        }
      ]
    },
    {
      "metadata": {
        "id": "E6PixzTHHJvQ",
        "colab_type": "code",
        "colab": {}
      },
      "cell_type": "code",
      "source": [
        ""
      ],
      "execution_count": 0,
      "outputs": []
    },
    {
      "metadata": {
        "id": "jwgnfbz7HgGJ",
        "colab_type": "text"
      },
      "cell_type": "markdown",
      "source": [
        "#### Data Acquisition and Training\n"
      ]
    },
    {
      "metadata": {
        "id": "AJk0pWxLHlBC",
        "colab_type": "code",
        "colab": {
          "base_uri": "https://localhost:8080/",
          "height": 105
        },
        "outputId": "5630e8ce-4874-40b4-db78-68a7ba430744"
      },
      "cell_type": "code",
      "source": [
        "batch_size = 256\n",
        "train_iter, test_iter = gb.load_data_fashion_mnist(batch_size=batch_size)"
      ],
      "execution_count": 50,
      "outputs": [
        {
          "output_type": "stream",
          "text": [
            "Downloading /root/.mxnet/datasets/fashion-mnist/train-images-idx3-ubyte.gz from https://apache-mxnet.s3-accelerate.dualstack.amazonaws.com/gluon/dataset/fashion-mnist/train-images-idx3-ubyte.gz...\n",
            "Downloading /root/.mxnet/datasets/fashion-mnist/train-labels-idx1-ubyte.gz from https://apache-mxnet.s3-accelerate.dualstack.amazonaws.com/gluon/dataset/fashion-mnist/train-labels-idx1-ubyte.gz...\n",
            "Downloading /root/.mxnet/datasets/fashion-mnist/t10k-images-idx3-ubyte.gz from https://apache-mxnet.s3-accelerate.dualstack.amazonaws.com/gluon/dataset/fashion-mnist/t10k-images-idx3-ubyte.gz...\n",
            "Downloading /root/.mxnet/datasets/fashion-mnist/t10k-labels-idx1-ubyte.gz from https://apache-mxnet.s3-accelerate.dualstack.amazonaws.com/gluon/dataset/fashion-mnist/t10k-labels-idx1-ubyte.gz...\n"
          ],
          "name": "stdout"
        }
      ]
    },
    {
      "metadata": {
        "id": "t4Zsw-voH7HG",
        "colab_type": "code",
        "colab": {
          "base_uri": "https://localhost:8080/",
          "height": 34
        },
        "outputId": "96e6388b-682f-48c4-e1a4-dbab59e6a3e6"
      },
      "cell_type": "code",
      "source": [
        "def try_gpu4():\n",
        "  try:\n",
        "    ctx = mx.gpu()\n",
        "    _ = nd.zeros((1,), ctx=ctx)\n",
        "  except mx.base.MXNetError:\n",
        "    ctx = mx.cpu()\n",
        "  return ctx\n",
        "\n",
        "ctx = try_gpu4()\n",
        "ctx"
      ],
      "execution_count": 37,
      "outputs": [
        {
          "output_type": "execute_result",
          "data": {
            "text/plain": [
              "cpu(0)"
            ]
          },
          "metadata": {
            "tags": []
          },
          "execution_count": 37
        }
      ]
    },
    {
      "metadata": {
        "id": "2prhmZtrIjeT",
        "colab_type": "code",
        "colab": {}
      },
      "cell_type": "code",
      "source": [
        "def evaluate_accuracy(data_iter, net, ctx):\n",
        "  acc = nd.array([0], ctx=ctx)\n",
        "  for X, y in data_iter:\n",
        "    # if ctx is the GPU, copy the data to the GPU\n",
        "    X, y = X.as_in_context(ctx), y.as_in_context(ctx)\n",
        "    acc += gb.accuracy(net(X), y)\n",
        "  return acc.asscalar() / len(data_iter)"
      ],
      "execution_count": 0,
      "outputs": []
    },
    {
      "metadata": {
        "id": "10kpxxEMJO3A",
        "colab_type": "code",
        "colab": {}
      },
      "cell_type": "code",
      "source": [
        "def train_ch5(net, train_iter, test_iter, batch_size, trainer, ctx, num_epochs):\n",
        "  print('training on', ctx)\n",
        "  loss = gloss.SoftmaxCrossEntropyLoss()\n",
        "  for epoch in range(num_epochs):\n",
        "    train_l_sum, train_acc_sum, start = 0, 0, time.time()\n",
        "    for X, y in train_iter:\n",
        "      X, y = X.as_in_context(ctx), y.as_in_context(ctx)\n",
        "      with autograd.record():\n",
        "        y_hat = net(X)\n",
        "        l = loss(y_hat, y)\n",
        "      l.backward()\n",
        "      trainer.step(batch_size)\n",
        "      train_l_sum += l.mean().asscalar()\n",
        "      train_acc_sum += gb.accuracy(y_hat, y)\n",
        "      test_acc = evaluate_accuracy(test_iter, net, ctx)\n",
        "      print('epoch %d, loss %.4f, train acc %.3f, test acc %.3f, '\n",
        "            'time %.1f sec' % (epoch + 1, train_l_sum / len(train_iter), train_acc_sum / len(train_iter), test_acc, time.time() - start))"
      ],
      "execution_count": 0,
      "outputs": []
    },
    {
      "metadata": {
        "id": "sPjmw17MKwtH",
        "colab_type": "code",
        "colab": {
          "base_uri": "https://localhost:8080/",
          "height": 198
        },
        "outputId": "74d6382b-6271-4e89-8a6d-b3bad56e4122"
      },
      "cell_type": "code",
      "source": [
        "lr, num_epochs = 0.9, 5\n",
        "net.initialize(force_reinit=True, ctx=ctx, init=init.Xavier())\n",
        "trainer = gluon.Trainer(net.collect_params(), 'sgd', {'learning_rate': lr})\n",
        "train_ch5 =(net, train_iter, test_iter, batch_size, trainer, ctx, num_epochs)"
      ],
      "execution_count": 41,
      "outputs": [
        {
          "output_type": "error",
          "ename": "NameError",
          "evalue": "ignored",
          "traceback": [
            "\u001b[0;31m---------------------------------------------------------------------------\u001b[0m",
            "\u001b[0;31mNameError\u001b[0m                                 Traceback (most recent call last)",
            "\u001b[0;32m<ipython-input-41-435dac7dd349>\u001b[0m in \u001b[0;36m<module>\u001b[0;34m()\u001b[0m\n\u001b[1;32m      2\u001b[0m \u001b[0mnet\u001b[0m\u001b[0;34m.\u001b[0m\u001b[0minitialize\u001b[0m\u001b[0;34m(\u001b[0m\u001b[0mforce_reinit\u001b[0m\u001b[0;34m=\u001b[0m\u001b[0;32mTrue\u001b[0m\u001b[0;34m,\u001b[0m \u001b[0mctx\u001b[0m\u001b[0;34m=\u001b[0m\u001b[0mctx\u001b[0m\u001b[0;34m,\u001b[0m \u001b[0minit\u001b[0m\u001b[0;34m=\u001b[0m\u001b[0minit\u001b[0m\u001b[0;34m.\u001b[0m\u001b[0mXavier\u001b[0m\u001b[0;34m(\u001b[0m\u001b[0;34m)\u001b[0m\u001b[0;34m)\u001b[0m\u001b[0;34m\u001b[0m\u001b[0;34m\u001b[0m\u001b[0m\n\u001b[1;32m      3\u001b[0m \u001b[0mtrainer\u001b[0m \u001b[0;34m=\u001b[0m \u001b[0mgluon\u001b[0m\u001b[0;34m.\u001b[0m\u001b[0mTrainer\u001b[0m\u001b[0;34m(\u001b[0m\u001b[0mnet\u001b[0m\u001b[0;34m.\u001b[0m\u001b[0mcollect_params\u001b[0m\u001b[0;34m(\u001b[0m\u001b[0;34m)\u001b[0m\u001b[0;34m,\u001b[0m \u001b[0;34m'sgd'\u001b[0m\u001b[0;34m,\u001b[0m \u001b[0;34m{\u001b[0m\u001b[0;34m'learning_rate'\u001b[0m\u001b[0;34m:\u001b[0m \u001b[0mlr\u001b[0m\u001b[0;34m}\u001b[0m\u001b[0;34m)\u001b[0m\u001b[0;34m\u001b[0m\u001b[0;34m\u001b[0m\u001b[0m\n\u001b[0;32m----> 4\u001b[0;31m \u001b[0mtrain_ch5\u001b[0m \u001b[0;34m=\u001b[0m\u001b[0;34m(\u001b[0m\u001b[0mnet\u001b[0m\u001b[0;34m,\u001b[0m \u001b[0mtrain_iter\u001b[0m\u001b[0;34m,\u001b[0m \u001b[0mtest_iter\u001b[0m\u001b[0;34m,\u001b[0m \u001b[0mbatch_size\u001b[0m\u001b[0;34m,\u001b[0m \u001b[0mtrainer\u001b[0m\u001b[0;34m,\u001b[0m \u001b[0mctx\u001b[0m\u001b[0;34m,\u001b[0m \u001b[0mnum_epochs\u001b[0m\u001b[0;34m)\u001b[0m\u001b[0;34m\u001b[0m\u001b[0;34m\u001b[0m\u001b[0m\n\u001b[0m",
            "\u001b[0;31mNameError\u001b[0m: name 'train_iter' is not defined"
          ]
        }
      ]
    }
  ]
}